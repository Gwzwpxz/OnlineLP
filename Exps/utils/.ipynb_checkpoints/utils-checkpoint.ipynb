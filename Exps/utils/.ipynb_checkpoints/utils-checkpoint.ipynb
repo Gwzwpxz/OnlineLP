{
 "cells": [
  {
   "cell_type": "markdown",
   "metadata": {},
   "source": [
    "## Utility function test"
   ]
  },
  {
   "cell_type": "markdown",
   "metadata": {},
   "source": [
    "This notebook is for test of utility functions"
   ]
  },
  {
   "cell_type": "code",
   "execution_count": 2,
   "metadata": {},
   "outputs": [],
   "source": [
    "# Import dependencies\n",
    "import numpy as np\n",
    "import scipy.sparse\n",
    "from scipy.io import savemat, loadmat\n",
    "from gurobipy import *"
   ]
  },
  {
   "cell_type": "markdown",
   "metadata": {},
   "source": [
    "#### Online Algorithm"
   ]
  },
  {
   "cell_type": "code",
   "execution_count": 3,
   "metadata": {},
   "outputs": [],
   "source": [
    "def fastLP(A, b, c, K, Method):\n",
    "    m = A.shape[0]\n",
    "    n = A.shape[1]\n",
    "    \n",
    "    # It is worth considerinvg whether it is better to exclude K here\n",
    "    # stepsize = 1 / np.sqrt(n * K)\n",
    "    \n",
    "    # Initialize dual solution\n",
    "    if Method == \"M\":\n",
    "        y = np.ones((m, 1)) / np.exp(1)\n",
    "    else:\n",
    "        y = np.zeros((m, 1))\n",
    "        \n",
    "    # Initialize resource\n",
    "    d = b / n\n",
    "    \n",
    "    # Initialize primal solution\n",
    "    x = np.zeros((n, 1))\n",
    "    \n",
    "    # Start dual descent\n",
    "    for i in range(K):\n",
    "        \n",
    "        p = np.random.permutation(n)\n",
    "        \n",
    "        for j in p:\n",
    "            \n",
    "            stepsize = 1 / np.sqrt(n * (i + 1))\n",
    "            aa = A[:, j].reshape(m, 1)\n",
    "            xk = (c[j] > np.dot(aa.T, y))\n",
    "            \n",
    "            if Method  == \"M\":\n",
    "                y = np.multiply(y, np.exp(- stepsize * (d - aa * xk)))\n",
    "            else:\n",
    "                y = y - stepsize * (d - aa * xk)\n",
    "                y = np.maximum(y, 0.0)\n",
    "            \n",
    "            x[j] += xk[0][0]\n",
    "            \n",
    "    obj = np.dot(c.T, x / K)\n",
    "            \n",
    "    return {\"x\": x / K, \"y\": y, \"obj\": obj}"
   ]
  },
  {
   "cell_type": "code",
   "execution_count": 4,
   "metadata": {},
   "outputs": [],
   "source": [
    "def rounding(A, b, c, x):\n",
    "    \n",
    "    m = b.size\n",
    "    n = c.size\n",
    "    p = np.random.permutation(n)\n",
    "    rdx = np.zeros((n, 1))\n",
    "    \n",
    "    for i in p:\n",
    "        aa = A[:, i].reshape(m, 1)\n",
    "        if (np.min(b - aa) >= 0):\n",
    "            rdx[i] = 1\n",
    "            b = b - aa\n",
    "    \n",
    "    obj = np.dot(c.T, rdx)\n",
    "    \n",
    "    return {\"rdx\": rdx, \"obj\": obj}"
   ]
  },
  {
   "cell_type": "code",
   "execution_count": 5,
   "metadata": {},
   "outputs": [],
   "source": [
    "def GRBLP(A, b, c):\n",
    "    \n",
    "    model = Model()\n",
    "    x = model.addMVar(n, lb=0.0, ub=1.0, vtype=GRB.CONTINUOUS)\n",
    "    constr = model.addMConstr(A, x, GRB.LESS_EQUAL, b.squeeze())\n",
    "    model.setMObjective(Q=None, c=c.squeeze(), constant=0.0, sense=GRB.MAXIMIZE)\n",
    "    model.update()\n",
    "    model.optimize()\n",
    "    optdual = model.getAttr(GRB.Attr.Pi, model.getConstrs())\n",
    "    optx = model.getAttr(GRB.Attr.X, model.getVars())\n",
    "    time = model.getAttr(GRB.Attr.Runtime)\n",
    "    obj = model.getAttr(GRB.Attr.ObjVal)\n",
    "    \n",
    "    return {\"x\": optx, \"y\": optdual, \"time\": time, \"model\": model, \"obj\": obj}"
   ]
  },
  {
   "cell_type": "code",
   "execution_count": 36,
   "metadata": {},
   "outputs": [],
   "source": [
    "def GRBMIP(A, b, c, initX=None):\n",
    "    \n",
    "    model = Model()\n",
    "    x = model.addMVar(n, vtype=GRB.BINARY)\n",
    "    \n",
    "    # Set initial solution\n",
    "    if initX is not None:\n",
    "        for i in range(c.size):\n",
    "            x[i].setAttr(GRB.Attr.Start, initX[i])\n",
    "    \n",
    "    constr = model.addMConstr(A, x, GRB.LESS_EQUAL, b.squeeze())\n",
    "    model.setMObjective(Q=None, c=c.squeeze(), constant=0.0, sense=GRB.MAXIMIZE)\n",
    "    model.setParam(GRB.Param.MIPGap, 0.01)\n",
    "    model.update()\n",
    "    model.optimize()\n",
    "    optx = model.getAttr(GRB.Attr.X, model.getVars())\n",
    "    time = model.getAttr(GRB.Attr.Runtime)\n",
    "    obj = model.getAttr(GRB.Attr.ObjVal)\n",
    "    \n",
    "    return {\"x\": optx, \"time\": time, \"model\": model, \"obj\": obj}"
   ]
  },
  {
   "cell_type": "code",
   "execution_count": 46,
   "metadata": {},
   "outputs": [],
   "source": [
    "# Test of online algorithm\n",
    "m = 2\n",
    "n = 10000\n",
    "\n",
    "A = np.random.randint(1, 1000, (m, n)) / 100\n",
    "b = np.sum(A, axis=1).reshape(m, 1) * 0.25\n",
    "c = np.sum(A, axis=0).reshape(n, 1) / m + np.random.rand(n, 1) * 5\n"
   ]
  },
  {
   "cell_type": "markdown",
   "metadata": {},
   "source": [
    "#### Utility for checking relation between regret and boosting parameter K"
   ]
  },
  {
   "cell_type": "code",
   "execution_count": null,
   "metadata": {},
   "outputs": [],
   "source": [
    "\"\"\"\n",
    "approx = np.zeros(20)\n",
    "regret = np.zeros(20)\n",
    "y\n",
    "objextr = lambda x: x[\"obj\"]\n",
    "timeextr = lambda x: x[\"time\"]\n",
    "dualextr = lambda x: x[\"y\"]\n",
    "\n",
    "lpres = GRBLP(A, b, c)\n",
    "\n",
    "counter = 0\n",
    "\n",
    "for i in np.ceil(np.logspace(1, 3, 20)).astype(int):\n",
    "    approxres = fastLP(A, b, c, i + 1, \"M\")\n",
    "    approx[counter] = objextr(approxres) / objextr(lpres)\n",
    "    regret[counter] = - objextr(approxres) + objextr(lpres)\n",
    "    print(\"Approximation ratio: {0}\".format(approx[counter]))\n",
    "    counter += 1\n",
    "    \n",
    "from matplotlib.pyplot import plot\n",
    "plot(regret * np.sqrt(np.logspace(1, 3, 20)))\n",
    "\n",
    "\"\"\""
   ]
  }
 ],
 "metadata": {
  "kernelspec": {
   "display_name": "Python 3",
   "language": "python",
   "name": "python3"
  },
  "language_info": {
   "codemirror_mode": {
    "name": "ipython",
    "version": 3
   },
   "file_extension": ".py",
   "mimetype": "text/x-python",
   "name": "python",
   "nbconvert_exporter": "python",
   "pygments_lexer": "ipython3",
   "version": "3.8.3"
  }
 },
 "nbformat": 4,
 "nbformat_minor": 4
}
