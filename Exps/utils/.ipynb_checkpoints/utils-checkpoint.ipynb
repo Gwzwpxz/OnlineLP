{
 "cells": [
  {
   "cell_type": "markdown",
   "metadata": {},
   "source": [
    "## Utility function test"
   ]
  },
  {
   "cell_type": "markdown",
   "metadata": {},
   "source": [
    "This notebook is for test of utility functions"
   ]
  },
  {
   "cell_type": "code",
   "execution_count": 1,
   "metadata": {},
   "outputs": [],
   "source": [
    "# Import dependencies\n",
    "import numpy as np\n",
    "import scipy.sparse\n",
    "from scipy.io import savemat, loadmat\n",
    "from gurobipy import *"
   ]
  },
  {
   "cell_type": "markdown",
   "metadata": {},
   "source": [
    "#### Online Algorithm"
   ]
  },
  {
   "cell_type": "code",
   "execution_count": 172,
   "metadata": {},
   "outputs": [],
   "source": [
    "def fastLP(A, b, c, K, Method):\n",
    "    m = A.shape[0]\n",
    "    n = A.shape[1]\n",
    "    \n",
    "    # It is worth considerinvg whether it is better to exclude K here\n",
    "    # stepsize = 1 / np.sqrt(n * K)\n",
    "    \n",
    "    # Initialize dual solution\n",
    "    if Method == \"M\":\n",
    "        y = np.ones((m, 1)) / np.exp(1)\n",
    "    else:\n",
    "        y = np.zeros((m, 1))\n",
    "        \n",
    "    # Initialize resource\n",
    "    d = b / n\n",
    "    \n",
    "    # Initialize primal solution\n",
    "    x = np.zeros((n, 1))\n",
    "    \n",
    "    # Start dual descent\n",
    "    for i in range(K):\n",
    "        \n",
    "        p = np.random.permutation(n)\n",
    "        \n",
    "        for j in p:\n",
    "            \n",
    "            stepsize = 1 / np.sqrt(n * (i + 1))\n",
    "            aa = A[:, j].reshape(m, 1)\n",
    "            xk = (c[j] > np.dot(aa.T, y))\n",
    "            \n",
    "            if Method  == \"M\":\n",
    "                y = np.multiply(y, np.exp(- stepsize * (d - aa * xk)))\n",
    "            else:\n",
    "                y = y - stepsize * (d - aa * xk)\n",
    "                y = np.maximum(y, 0.0)\n",
    "            \n",
    "            x[j] += xk[0][0]\n",
    "            \n",
    "    obj = np.dot(c.T, x / K)\n",
    "            \n",
    "    return {\"x\": x / K, \"y\": y, \"obj\": obj}"
   ]
  },
  {
   "cell_type": "code",
   "execution_count": 173,
   "metadata": {},
   "outputs": [],
   "source": [
    "def GRBLP(A, b, c):\n",
    "    \n",
    "    model = Model()\n",
    "    x = model.addMVar(n, lb=0.0, ub=1.0, vtype=GRB.CONTINUOUS)\n",
    "    constr = model.addMConstrs(A, x, GRB.LESS_EQUAL, b.squeeze())\n",
    "    model.setMObjective(Q=None, c=c.squeeze(), constant=0.0, sense=GRB.MAXIMIZE)\n",
    "    model.update()\n",
    "    model.optimize()\n",
    "    optdual = model.getAttr(GRB.Attr.Pi, model.getConstrs())\n",
    "    optx = model.getAttr(GRB.Attr.X, model.getVars())\n",
    "    time = model.getAttr(GRB.Attr.Runtime)\n",
    "    obj = model.getAttr(GRB.Attr.ObjVal)\n",
    "    \n",
    "    return {\"x\": optx, \"y\": optdual, \"time\": time, \"model\": model, \"obj\": obj}"
   ]
  },
  {
   "cell_type": "code",
   "execution_count": 174,
   "metadata": {},
   "outputs": [],
   "source": [
    "def GRBMIP(A, b, c):\n",
    "    \n",
    "    model = Model()\n",
    "    x = model.addMVar(n, vtype=GRB.BINARY)\n",
    "    constr = model.addMConstrs(A, x, GRB.LESS_EQUAL, b.squeeze())\n",
    "    model.setMObjective(Q=None, c=c.squeeze(), constant=0.0, sense=GRB.MAXIMIZE)\n",
    "    model.update()\n",
    "    model.optimize()\n",
    "    optdual = model.getAttr(GRB.Attr.Pi, model.getConstrs())\n",
    "    optx = model.getAttr(GRB.Attr.X, model.getVars())\n",
    "    time = model.getAttr(GRB.Attr.Runtime)\n",
    "    obj = model.getAttr(GRB.Attr.ObjVal)\n",
    "    \n",
    "    return {\"x\": optx, \"y\": optdual, \"time\": time, \"model\": model, \"obj\": obj}"
   ]
  },
  {
   "cell_type": "code",
   "execution_count": 175,
   "metadata": {},
   "outputs": [],
   "source": [
    "# Test of online algorithm\n",
    "m = 5\n",
    "n = 100\n",
    "\n",
    "A = np.random.randint(1, 1000, (m, n)) / 100\n",
    "b = np.sum(A, axis=1).reshape(m, 1) * 0.25\n",
    "c = np.sum(A, axis=0).reshape(n, 1) / m + np.random.rand(n, 1) * 5\n"
   ]
  },
  {
   "cell_type": "code",
   "execution_count": 176,
   "metadata": {},
   "outputs": [
    {
     "name": "stdout",
     "output_type": "stream",
     "text": [
      "Gurobi Optimizer version 9.0.3 build v9.0.3rc0 (win64)\n",
      "Optimize a model with 5 rows, 100 columns and 500 nonzeros\n",
      "Model fingerprint: 0xddd873a4\n",
      "Coefficient statistics:\n",
      "  Matrix range     [3e-02, 1e+01]\n",
      "  Objective range  [3e+00, 1e+01]\n",
      "  Bounds range     [1e+00, 1e+00]\n",
      "  RHS range        [1e+02, 1e+02]\n",
      "Presolve time: 0.00s\n",
      "Presolved: 5 rows, 100 columns, 500 nonzeros\n",
      "\n",
      "Iteration    Objective       Primal Inf.    Dual Inf.      Time\n",
      "       0    5.8584067e+03   4.513098e+03   0.000000e+00      0s\n",
      "      20    2.4471236e+02   0.000000e+00   0.000000e+00      0s\n",
      "\n",
      "Solved in 20 iterations and 0.01 seconds\n",
      "Optimal objective  2.447123646e+02\n"
     ]
    }
   ],
   "source": [
    "res = fastLP(A, b, c, 1, \"S\")\n",
    "gres = GRBLP(A, b, c)"
   ]
  },
  {
   "cell_type": "code",
   "execution_count": null,
   "metadata": {},
   "outputs": [],
   "source": [
    "for n in [10, 100, 1000, 10000]"
   ]
  }
 ],
 "metadata": {
  "kernelspec": {
   "display_name": "Python 3",
   "language": "python",
   "name": "python3"
  },
  "language_info": {
   "codemirror_mode": {
    "name": "ipython",
    "version": 3
   },
   "file_extension": ".py",
   "mimetype": "text/x-python",
   "name": "python",
   "nbconvert_exporter": "python",
   "pygments_lexer": "ipython3",
   "version": "3.7.7"
  }
 },
 "nbformat": 4,
 "nbformat_minor": 4
}
