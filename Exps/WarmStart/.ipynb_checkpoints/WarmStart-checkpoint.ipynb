{
 "cells": [
  {
   "cell_type": "markdown",
   "metadata": {},
   "source": [
    "## Online Algorithm Warm Start Test"
   ]
  },
  {
   "cell_type": "markdown",
   "metadata": {},
   "source": [
    "This notebook implements online algorithm and its different variations and apply the approximate solution of online algorithm as a warmstart to accelerate MIP Solution."
   ]
  },
  {
   "cell_type": "code",
   "execution_count": null,
   "metadata": {},
   "outputs": [],
   "source": [
    "# Import dependencies\n",
    "import sys\n",
    "sys.path.append(\"..\")\n",
    "sys.path.append(\"../utils/\")\n",
    "from utils.algs import *\n",
    "from utils.gendata import *\n",
    "import numpy as np\n",
    "import scipy.sparse\n",
    "from scipy.io import savemat, loadmat"
   ]
  },
  {
   "cell_type": "markdown",
   "metadata": {},
   "source": [
    "#### Test of warm start"
   ]
  },
  {
   "cell_type": "code",
   "execution_count": null,
   "metadata": {},
   "outputs": [],
   "source": [
    "m = 64\n",
    "n = 10000\n",
    "tightness = 0.75\n",
    "bord = 1\n",
    "typeid = 0\n",
    "sps = 1.0\n",
    "\n",
    "timeextr = lambda x: x[\"time\"]\n",
    "\n",
    "data = gendata(m, n, typeid, tightness, bord, sps)\n",
    "\n",
    "A = data[\"A\"]\n",
    "b = data[\"b\"]\n",
    "c = data[\"c\"]\n",
    "K = 50\n",
    "method = \"S\"\n",
    "\n",
    "approxlpres = fastLP(A, b, c, K, method)\n",
    "approxmipsol = rounding(A, b, c, approxlpres[\"x\"])\n",
    "\n",
    "mipres = GRBMIP(A, b, c)\n",
    "miptime = timeextr(mipres)\n",
    "\n",
    "initmipres = GRBMIP(A, b, c, approxmipsol[\"rdx\"])\n",
    "# initmipres = GRBMIP(A, b, c, np.round(approxlpres[\"x\"]))\n",
    "initmiptime = timeextr(initmipres)\n",
    "\n",
    "print(\"Time of naive MIP: {0}.\".format(miptime))\n",
    "print(\"Time of initialized MIP: {0}.\".format(initmiptime))"
   ]
  },
  {
   "cell_type": "code",
   "execution_count": null,
   "metadata": {},
   "outputs": [],
   "source": [
    "approxmipsol[\"obj\"] / mipres[\"obj\"]"
   ]
  },
  {
   "cell_type": "code",
   "execution_count": null,
   "metadata": {},
   "outputs": [],
   "source": [
    "approxmipsol"
   ]
  },
  {
   "cell_type": "code",
   "execution_count": null,
   "metadata": {},
   "outputs": [],
   "source": [
    "A.dot(approxmipsol[\"rdx\"]) - b"
   ]
  },
  {
   "cell_type": "code",
   "execution_count": null,
   "metadata": {},
   "outputs": [],
   "source": [
    "type(A) == scipy.sparse.csc.csc_matrix"
   ]
  },
  {
   "cell_type": "code",
   "execution_count": null,
   "metadata": {},
   "outputs": [],
   "source": []
  }
 ],
 "metadata": {
  "kernelspec": {
   "display_name": "Python 3",
   "language": "python",
   "name": "python3"
  },
  "language_info": {
   "codemirror_mode": {
    "name": "ipython",
    "version": 3
   },
   "file_extension": ".py",
   "mimetype": "text/x-python",
   "name": "python",
   "nbconvert_exporter": "python",
   "pygments_lexer": "ipython3",
   "version": "3.7.7"
  }
 },
 "nbformat": 4,
 "nbformat_minor": 4
}
